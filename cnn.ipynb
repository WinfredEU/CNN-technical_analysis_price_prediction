{
 "cells": [
  {
   "cell_type": "markdown",
   "metadata": {},
   "source": [
    "# Convolutional Neural Network"
   ]
  },
  {
   "cell_type": "code",
   "execution_count": 2,
   "metadata": {},
   "outputs": [
    {
     "data": {
      "text/plain": [
       "<matplotlib.axes._subplots.AxesSubplot at 0x11be7e6d8>"
      ]
     },
     "execution_count": 2,
     "metadata": {},
     "output_type": "execute_result"
    },
    {
     "data": {
      "image/png": "[encoded data removed]",
      "text/plain": [
       "<Figure size 432x288 with 1 Axes>"
      ]
     },
     "metadata": {
      "needs_background": "light"
     },
     "output_type": "display_data"
    }
   ],
   "source": [
    "import pandas as pd\n",
    "df=pd.read_pickle('/Users/benbilly3/Desktop/資策會專題/rawMaterialPricePrediction/RM_Price/rawMaterialPrice.pickle')\n",
    "twii=df.loc['cmeCorn']['Close']\n",
    "twii=twii.loc['1961-08-10 ':]\n",
    "# filter_std=twii.mean()+twii.std()*3\n",
    "# twii=twii[twii<filter_std]\n",
    "twii.plot()"
   ]
  },
  {
   "cell_type": "markdown",
   "metadata": {},
   "source": [
    "## 製作features"
   ]
  },
  {
   "cell_type": "code",
   "execution_count": 3,
   "metadata": {},
   "outputs": [
    {
     "data": {
      "application/vnd.jupyter.widget-view+json": {
       "model_id": "c66cf04d45df4912a2fa02dd3280fd8d",
       "version_major": 2,
       "version_minor": 0
      },
      "text/plain": [
       "HBox(children=(IntProgress(value=0, max=4843), HTML(value='')))"
      ]
     },
     "metadata": {},
     "output_type": "display_data"
    },
    {
     "name": "stdout",
     "output_type": "stream",
     "text": [
      "\n"
     ]
    }
   ],
   "source": [
    "import numpy as np\n",
    "import tqdm\n",
    "time_period = 100\n",
    "\n",
    "cnn_x = []\n",
    "cnn_y = []\n",
    "indexs = []\n",
    "for i in tqdm.tqdm_notebook(range(0, len(twii) - time_period - 1 - 11, 3)):\n",
    "    s = twii.iloc[i:i+time_period].values\n",
    "    cnn_x.append((s - s.min())/(s.max() - s.min()))\n",
    "    r = twii.iloc[i+time_period+10] / twii.iloc[i+time_period-1]\n",
    "    cnn_y.append(r)\n",
    "    indexs.append(twii.index[i+time_period-1])\n",
    "\n",
    "cnn_x = np.array(cnn_x)\n",
    "cnn_y = np.array(cnn_y)\n",
    "indexes = np.array(indexs)\n",
    "\n",
    "\n"
   ]
  },
  {
   "cell_type": "markdown",
   "metadata": {},
   "source": [
    "## Reshape features and labels"
   ]
  },
  {
   "cell_type": "code",
   "execution_count": 5,
   "metadata": {},
   "outputs": [
    {
     "data": {
      "text/plain": [
       "array([[[0.20622287],\n",
       "        [0.20622287],\n",
       "        [0.23878437],\n",
       "        ...,\n",
       "        [0.15557164],\n",
       "        [0.17366136],\n",
       "        [0.17727931]],\n",
       "\n",
       "       [[0.24602026],\n",
       "        [0.23516643],\n",
       "        [0.22793054],\n",
       "        ...,\n",
       "        [0.90774204],\n",
       "        [0.17366136],\n",
       "        [0.14109986]],\n",
       "\n",
       "       [[0.23154848],\n",
       "        [0.21345876],\n",
       "        [0.2170767 ],\n",
       "        ...,\n",
       "        [0.13748191],\n",
       "        [0.13024602],\n",
       "        [0.12301013]],\n",
       "\n",
       "       ...,\n",
       "\n",
       "       [[0.25925926],\n",
       "        [0.25925926],\n",
       "        [0.26157407],\n",
       "        ...,\n",
       "        [0.66898148],\n",
       "        [0.83333333],\n",
       "        [0.85185185]],\n",
       "\n",
       "       [[0.21296296],\n",
       "        [0.22222222],\n",
       "        [0.2662037 ],\n",
       "        ...,\n",
       "        [0.8587963 ],\n",
       "        [0.79398148],\n",
       "        [0.81712963]],\n",
       "\n",
       "       [[0.26388889],\n",
       "        [0.30787037],\n",
       "        [0.27083333],\n",
       "        ...,\n",
       "        [0.90277778],\n",
       "        [0.99537037],\n",
       "        [0.87268519]]])"
      ]
     },
     "execution_count": 5,
     "metadata": {},
     "output_type": "execute_result"
    }
   ],
   "source": [
    "cnn_x = cnn_x.reshape(len(cnn_x), time_period, 1)\n",
    "cnn_y = cnn_y.reshape(len(cnn_y), 1)\n",
    "cnn_x"
   ]
  },
  {
   "cell_type": "markdown",
   "metadata": {},
   "source": [
    "## Split traning and testing data"
   ]
  },
  {
   "cell_type": "code",
   "execution_count": 6,
   "metadata": {},
   "outputs": [],
   "source": [
    "import datetime\n",
    "cnn_x_train = cnn_x[indexes < datetime.datetime(2016,1,1)]\n",
    "cnn_y_train = cnn_y[indexes < datetime.datetime(2016,1,1)]"
   ]
  },
  {
   "cell_type": "code",
   "execution_count": 7,
   "metadata": {},
   "outputs": [
    {
     "data": {
      "text/plain": [
       "[<matplotlib.lines.Line2D at 0x11860a710>]"
      ]
     },
     "execution_count": 7,
     "metadata": {},
     "output_type": "execute_result"
    },
    {
     "data": {
      "image/png": "[encoded data removed]",
      "text/plain": [
       "<Figure size 432x288 with 1 Axes>"
      ]
     },
     "metadata": {
      "needs_background": "light"
     },
     "output_type": "display_data"
    }
   ],
   "source": [
    "import matplotlib.pyplot as plt\n",
    "%matplotlib inline\n",
    "plt.plot(cnn_x[0].reshape(1, len(cnn_x[0]))[0])\n"
   ]
  },
  {
   "cell_type": "markdown",
   "metadata": {},
   "source": [
    "## CNN"
   ]
  },
  {
   "cell_type": "code",
   "execution_count": 8,
   "metadata": {},
   "outputs": [
    {
     "name": "stderr",
     "output_type": "stream",
     "text": [
      "Using TensorFlow backend.\n",
      "/anaconda3/lib/python3.6/site-packages/tensorflow/python/framework/dtypes.py:523: FutureWarning: Passing (type, 1) or '1type' as a synonym of type is deprecated; in a future version of numpy, it will be understood as (type, (1,)) / '(1,)type'.\n",
      "  _np_qint8 = np.dtype([(\"qint8\", np.int8, 1)])\n",
      "/anaconda3/lib/python3.6/site-packages/tensorflow/python/framework/dtypes.py:524: FutureWarning: Passing (type, 1) or '1type' as a synonym of type is deprecated; in a future version of numpy, it will be understood as (type, (1,)) / '(1,)type'.\n",
      "  _np_quint8 = np.dtype([(\"quint8\", np.uint8, 1)])\n",
      "/anaconda3/lib/python3.6/site-packages/tensorflow/python/framework/dtypes.py:525: FutureWarning: Passing (type, 1) or '1type' as a synonym of type is deprecated; in a future version of numpy, it will be understood as (type, (1,)) / '(1,)type'.\n",
      "  _np_qint16 = np.dtype([(\"qint16\", np.int16, 1)])\n",
      "/anaconda3/lib/python3.6/site-packages/tensorflow/python/framework/dtypes.py:526: FutureWarning: Passing (type, 1) or '1type' as a synonym of type is deprecated; in a future version of numpy, it will be understood as (type, (1,)) / '(1,)type'.\n",
      "  _np_quint16 = np.dtype([(\"quint16\", np.uint16, 1)])\n",
      "/anaconda3/lib/python3.6/site-packages/tensorflow/python/framework/dtypes.py:527: FutureWarning: Passing (type, 1) or '1type' as a synonym of type is deprecated; in a future version of numpy, it will be understood as (type, (1,)) / '(1,)type'.\n",
      "  _np_qint32 = np.dtype([(\"qint32\", np.int32, 1)])\n",
      "/anaconda3/lib/python3.6/site-packages/tensorflow/python/framework/dtypes.py:532: FutureWarning: Passing (type, 1) or '1type' as a synonym of type is deprecated; in a future version of numpy, it will be understood as (type, (1,)) / '(1,)type'.\n",
      "  np_resource = np.dtype([(\"resource\", np.ubyte, 1)])\n"
     ]
    },
    {
     "name": "stdout",
     "output_type": "stream",
     "text": [
      "_________________________________________________________________\n",
      "Layer (type)                 Output Shape              Param #   \n",
      "=================================================================\n",
      "conv1d_1 (Conv1D)            (None, 81, 20)            420       \n",
      "_________________________________________________________________\n",
      "max_pooling1d_1 (MaxPooling1 (None, 16, 20)            0         \n",
      "_________________________________________________________________\n",
      "conv1d_2 (Conv1D)            (None, 7, 10)             2010      \n",
      "_________________________________________________________________\n",
      "max_pooling1d_2 (MaxPooling1 (None, 1, 10)             0         \n",
      "_________________________________________________________________\n",
      "flatten_1 (Flatten)          (None, 10)                0         \n",
      "_________________________________________________________________\n",
      "dense_1 (Dense)              (None, 240)               2640      \n",
      "_________________________________________________________________\n",
      "dense_2 (Dense)              (None, 120)               28920     \n",
      "_________________________________________________________________\n",
      "dense_3 (Dense)              (None, 1)                 121       \n",
      "=================================================================\n",
      "Total params: 34,111\n",
      "Trainable params: 34,111\n",
      "Non-trainable params: 0\n",
      "_________________________________________________________________\n",
      "None\n",
      "Train on 4087 samples, validate on 455 samples\n",
      "Epoch 1/50\n",
      "4087/4087 [==============================] - 0s 119us/step - loss: 0.6470 - acc: 9.7871e-04 - val_loss: 0.1013 - val_acc: 0.0022\n",
      "Epoch 2/50\n",
      "4087/4087 [==============================] - 0s 31us/step - loss: 0.0762 - acc: 0.0120 - val_loss: 0.0345 - val_acc: 0.0022\n",
      "Epoch 3/50\n",
      "4087/4087 [==============================] - 0s 33us/step - loss: 0.0350 - acc: 0.0125 - val_loss: 0.0313 - val_acc: 0.0022\n",
      "Epoch 4/50\n",
      "4087/4087 [==============================] - 0s 31us/step - loss: 0.0204 - acc: 0.0125 - val_loss: 0.0214 - val_acc: 0.0022\n",
      "Epoch 5/50\n",
      "4087/4087 [==============================] - 0s 31us/step - loss: 0.0146 - acc: 0.0125 - val_loss: 0.0170 - val_acc: 0.0022\n",
      "Epoch 6/50\n",
      "4087/4087 [==============================] - 0s 29us/step - loss: 0.0115 - acc: 0.0125 - val_loss: 0.0140 - val_acc: 0.0022\n",
      "Epoch 7/50\n",
      "4087/4087 [==============================] - 0s 30us/step - loss: 0.0095 - acc: 0.0125 - val_loss: 0.0119 - val_acc: 0.0022\n",
      "Epoch 8/50\n",
      "4087/4087 [==============================] - 0s 30us/step - loss: 0.0080 - acc: 0.0125 - val_loss: 0.0102 - val_acc: 0.0022\n",
      "Epoch 9/50\n",
      "4087/4087 [==============================] - 0s 30us/step - loss: 0.0069 - acc: 0.0125 - val_loss: 0.0091 - val_acc: 0.0022\n",
      "Epoch 10/50\n",
      "4087/4087 [==============================] - 0s 30us/step - loss: 0.0061 - acc: 0.0125 - val_loss: 0.0084 - val_acc: 0.0022\n",
      "Epoch 11/50\n",
      "4087/4087 [==============================] - 0s 29us/step - loss: 0.0055 - acc: 0.0125 - val_loss: 0.0076 - val_acc: 0.0022\n",
      "Epoch 12/50\n",
      "4087/4087 [==============================] - 0s 30us/step - loss: 0.0050 - acc: 0.0125 - val_loss: 0.0070 - val_acc: 0.0022\n",
      "Epoch 13/50\n",
      "4087/4087 [==============================] - 0s 29us/step - loss: 0.0046 - acc: 0.0125 - val_loss: 0.0067 - val_acc: 0.0022\n",
      "Epoch 14/50\n",
      "4087/4087 [==============================] - 0s 30us/step - loss: 0.0043 - acc: 0.0125 - val_loss: 0.0064 - val_acc: 0.0022\n",
      "Epoch 15/50\n",
      "4087/4087 [==============================] - 0s 33us/step - loss: 0.0041 - acc: 0.0125 - val_loss: 0.0061 - val_acc: 0.0022\n",
      "Epoch 16/50\n",
      "4087/4087 [==============================] - 0s 33us/step - loss: 0.0038 - acc: 0.0125 - val_loss: 0.0058 - val_acc: 0.0022\n",
      "Epoch 17/50\n",
      "4087/4087 [==============================] - 0s 33us/step - loss: 0.0037 - acc: 0.0125 - val_loss: 0.0056 - val_acc: 0.0022\n",
      "Epoch 18/50\n",
      "4087/4087 [==============================] - 0s 32us/step - loss: 0.0036 - acc: 0.0125 - val_loss: 0.0056 - val_acc: 0.0022\n",
      "Epoch 19/50\n",
      "4087/4087 [==============================] - 0s 30us/step - loss: 0.0035 - acc: 0.0125 - val_loss: 0.0054 - val_acc: 0.0022\n",
      "Epoch 20/50\n",
      "4087/4087 [==============================] - 0s 29us/step - loss: 0.0034 - acc: 0.0125 - val_loss: 0.0052 - val_acc: 0.0022\n",
      "Epoch 21/50\n",
      "4087/4087 [==============================] - 0s 28us/step - loss: 0.0033 - acc: 0.0125 - val_loss: 0.0052 - val_acc: 0.0022\n",
      "Epoch 22/50\n",
      "4087/4087 [==============================] - 0s 28us/step - loss: 0.0032 - acc: 0.0125 - val_loss: 0.0050 - val_acc: 0.0022\n",
      "Epoch 23/50\n",
      "4087/4087 [==============================] - 0s 29us/step - loss: 0.0032 - acc: 0.0125 - val_loss: 0.0050 - val_acc: 0.0022\n",
      "Epoch 24/50\n",
      "4087/4087 [==============================] - 0s 29us/step - loss: 0.0032 - acc: 0.0125 - val_loss: 0.0049 - val_acc: 0.0022\n",
      "Epoch 25/50\n",
      "4087/4087 [==============================] - 0s 31us/step - loss: 0.0031 - acc: 0.0125 - val_loss: 0.0048 - val_acc: 0.0022\n",
      "Epoch 26/50\n",
      "4087/4087 [==============================] - 0s 32us/step - loss: 0.0031 - acc: 0.0125 - val_loss: 0.0048 - val_acc: 0.0022\n",
      "Epoch 27/50\n",
      "4087/4087 [==============================] - 0s 32us/step - loss: 0.0031 - acc: 0.0125 - val_loss: 0.0049 - val_acc: 0.0022\n",
      "Epoch 28/50\n",
      "4087/4087 [==============================] - 0s 29us/step - loss: 0.0031 - acc: 0.0125 - val_loss: 0.0047 - val_acc: 0.0022\n",
      "Epoch 29/50\n",
      "4087/4087 [==============================] - 0s 28us/step - loss: 0.0030 - acc: 0.0125 - val_loss: 0.0047 - val_acc: 0.0022\n",
      "Epoch 30/50\n",
      "4087/4087 [==============================] - 0s 29us/step - loss: 0.0030 - acc: 0.0125 - val_loss: 0.0047 - val_acc: 0.0022\n",
      "Epoch 31/50\n",
      "4087/4087 [==============================] - 0s 32us/step - loss: 0.0030 - acc: 0.0125 - val_loss: 0.0046 - val_acc: 0.0022\n",
      "Epoch 32/50\n",
      "4087/4087 [==============================] - 0s 33us/step - loss: 0.0030 - acc: 0.0125 - val_loss: 0.0047 - val_acc: 0.0022\n",
      "Epoch 33/50\n",
      "4087/4087 [==============================] - 0s 29us/step - loss: 0.0030 - acc: 0.0125 - val_loss: 0.0047 - val_acc: 0.0022\n",
      "Epoch 34/50\n",
      "4087/4087 [==============================] - 0s 29us/step - loss: 0.0030 - acc: 0.0125 - val_loss: 0.0047 - val_acc: 0.0022\n",
      "Epoch 35/50\n",
      "4087/4087 [==============================] - 0s 28us/step - loss: 0.0029 - acc: 0.0125 - val_loss: 0.0046 - val_acc: 0.0022\n",
      "Epoch 36/50\n",
      "4087/4087 [==============================] - 0s 30us/step - loss: 0.0029 - acc: 0.0125 - val_loss: 0.0046 - val_acc: 0.0022\n",
      "Epoch 37/50\n",
      "4087/4087 [==============================] - 0s 33us/step - loss: 0.0029 - acc: 0.0125 - val_loss: 0.0046 - val_acc: 0.0022\n",
      "Epoch 38/50\n",
      "4087/4087 [==============================] - 0s 32us/step - loss: 0.0029 - acc: 0.0125 - val_loss: 0.0046 - val_acc: 0.0022\n",
      "Epoch 39/50\n",
      "4087/4087 [==============================] - 0s 29us/step - loss: 0.0029 - acc: 0.0125 - val_loss: 0.0045 - val_acc: 0.0022\n",
      "Epoch 40/50\n",
      "4087/4087 [==============================] - 0s 30us/step - loss: 0.0029 - acc: 0.0125 - val_loss: 0.0046 - val_acc: 0.0022\n",
      "Epoch 41/50\n",
      "4087/4087 [==============================] - 0s 29us/step - loss: 0.0029 - acc: 0.0125 - val_loss: 0.0045 - val_acc: 0.0022\n",
      "Epoch 42/50\n",
      "4087/4087 [==============================] - 0s 27us/step - loss: 0.0029 - acc: 0.0125 - val_loss: 0.0046 - val_acc: 0.0022\n",
      "Epoch 43/50\n",
      "4087/4087 [==============================] - 0s 29us/step - loss: 0.0029 - acc: 0.0125 - val_loss: 0.0045 - val_acc: 0.0022\n",
      "Epoch 44/50\n",
      "4087/4087 [==============================] - 0s 30us/step - loss: 0.0029 - acc: 0.0125 - val_loss: 0.0045 - val_acc: 0.0022\n",
      "Epoch 45/50\n",
      "4087/4087 [==============================] - 0s 30us/step - loss: 0.0029 - acc: 0.0125 - val_loss: 0.0045 - val_acc: 0.0022\n",
      "Epoch 46/50\n",
      "4087/4087 [==============================] - 0s 30us/step - loss: 0.0029 - acc: 0.0125 - val_loss: 0.0045 - val_acc: 0.0022\n",
      "Epoch 47/50\n",
      "4087/4087 [==============================] - 0s 29us/step - loss: 0.0029 - acc: 0.0125 - val_loss: 0.0045 - val_acc: 0.0022\n",
      "Epoch 48/50\n",
      "4087/4087 [==============================] - 0s 29us/step - loss: 0.0029 - acc: 0.0125 - val_loss: 0.0045 - val_acc: 0.0022\n",
      "Epoch 49/50\n",
      "4087/4087 [==============================] - 0s 32us/step - loss: 0.0029 - acc: 0.0125 - val_loss: 0.0044 - val_acc: 0.0022\n",
      "Epoch 50/50\n",
      "4087/4087 [==============================] - 0s 32us/step - loss: 0.0029 - acc: 0.0125 - val_loss: 0.0044 - val_acc: 0.0022\n"
     ]
    }
   ],
   "source": [
    "import keras\n",
    "import keras.layers as layers\n",
    "from keras.models import Sequential\n",
    "from keras.initializers import he_normal\n",
    "\n",
    "input_shape = cnn_x[0].shape\n",
    "time_period = 100\n",
    "num_classes = 1\n",
    "\n",
    "\n",
    "model_m = Sequential()\n",
    "\n",
    "model = keras.Sequential()\n",
    "\n",
    "model.add(layers.Conv1D(filters=20, kernel_size=20, activation='relu', input_shape=cnn_x[0].shape))\n",
    "model.add(layers.MaxPooling1D(5))\n",
    "\n",
    "model.add(layers.Conv1D(filters=10, kernel_size=10, activation='relu'))\n",
    "model.add(layers.MaxPooling1D(5))\n",
    "model.add(layers.Flatten())\n",
    "model.add(layers.Dense(units=240, activation='relu'))\n",
    "model.add(layers.Dense(units=120, activation='relu'))\n",
    "model.add(layers.Dense(units=1, ))#activation = 'softmax'))\n",
    "\n",
    "adam = keras.optimizers.Adam(lr=0.0005, beta_1=0.9, beta_2=0.99, epsilon=None, decay=0.01, amsgrad=False)\n",
    "\n",
    "model.compile(loss='mse',\n",
    "                optimizer=adam, metrics=['accuracy'])\n",
    "\n",
    "print(model.summary())\n",
    "\n",
    "history = model.fit(cnn_x_train, cnn_y_train,\n",
    "                    batch_size=200,\n",
    "                    epochs=50,\n",
    "                    verbose=1,\n",
    "                    validation_split=0.1, )"
   ]
  },
  {
   "cell_type": "code",
   "execution_count": 9,
   "metadata": {},
   "outputs": [
    {
     "data": {
      "text/plain": [
       "[<matplotlib.lines.Line2D at 0x109ede550>]"
      ]
     },
     "execution_count": 9,
     "metadata": {},
     "output_type": "execute_result"
    },
    {
     "data": {
      "image/png": "[encoded data removed]",
      "text/plain": [
       "<Figure size 432x288 with 1 Axes>"
      ]
     },
     "metadata": {
      "needs_background": "light"
     },
     "output_type": "display_data"
    }
   ],
   "source": [
    "import matplotlib.pyplot as plt\n",
    "%matplotlib inline\n",
    "plt.plot(np.log(history.history['loss'][1:]))\n",
    "plt.plot(np.log(history.history['val_loss']))"
   ]
  },
  {
   "cell_type": "code",
   "execution_count": 10,
   "metadata": {},
   "outputs": [
    {
     "data": {
      "text/plain": [
       "<matplotlib.axes._subplots.AxesSubplot at 0x1375417f0>"
      ]
     },
     "execution_count": 10,
     "metadata": {},
     "output_type": "execute_result"
    },
    {
     "data": {
      "image/png": "[encoded data removed]",
      "text/plain": [
       "<Figure size 432x288 with 1 Axes>"
      ]
     },
     "metadata": {
      "needs_background": "light"
     },
     "output_type": "display_data"
    }
   ],
   "source": [
    "ey = model.predict(cnn_x)\n",
    "ey = pd.Series(ey.swapaxes(0, 1)[0], index=indexes)\n",
    "ey.hist()"
   ]
  },
  {
   "cell_type": "code",
   "execution_count": 11,
   "metadata": {},
   "outputs": [
    {
     "data": {
      "text/plain": [
       "<matplotlib.axes._subplots.AxesSubplot at 0x1376f3550>"
      ]
     },
     "execution_count": 11,
     "metadata": {},
     "output_type": "execute_result"
    },
    {
     "data": {
      "image/png": "[encoded data removed]",
      "text/plain": [
       "<Figure size 432x288 with 1 Axes>"
      ]
     },
     "metadata": {
      "needs_background": "light"
     },
     "output_type": "display_data"
    }
   ],
   "source": [
    "\n",
    "eq = twii[pd.to_datetime(indexes)]\n",
    "gain = (eq.shift(-1)/eq) \n",
    "\n",
    "signal = (ey > ey.quantile(0.9)).rolling(20).sum() > 0\n",
    "eq = (gain[signal])['2016':].cumprod()\n",
    "eq.plot()\n"
   ]
  },
  {
   "cell_type": "code",
   "execution_count": 147,
   "metadata": {},
   "outputs": [
    {
     "data": {
      "text/plain": [
       "10.0"
      ]
     },
     "execution_count": 147,
     "metadata": {},
     "output_type": "execute_result"
    }
   ],
   "source": [
    "signal['2016':].astype(int).diff().abs().sum()"
   ]
  }
 ],
 "metadata": {
  "kernelspec": {
   "display_name": "finlab",
   "language": "python",
   "name": "finlab"
  },
  "language_info": {
   "codemirror_mode": {
    "name": "ipython",
    "version": 3
   },
   "file_extension": ".py",
   "mimetype": "text/x-python",
   "name": "python",
   "nbconvert_exporter": "python",
   "pygments_lexer": "ipython3",
   "version": "3.6.8"
  }
 },
 "nbformat": 4,
 "nbformat_minor": 2
}
