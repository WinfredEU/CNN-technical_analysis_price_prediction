{
 "cells": [
  {
   "cell_type": "markdown",
   "metadata": {},
   "source": [
    "# 神經網路實做"
   ]
  },
  {
   "cell_type": "markdown",
   "metadata": {},
   "source": [
    "## 拿取加權指數資料"
   ]
  },
  {
   "cell_type": "code",
   "execution_count": 28,
   "metadata": {},
   "outputs": [
    {
     "data": {
      "text/plain": [
       "date\n",
       "2006-01-02 09:00:00    6548.34\n",
       "2006-01-02 09:15:00    6478.09\n",
       "2006-01-02 09:30:00    6474.88\n",
       "2006-01-02 09:45:00    6471.12\n",
       "2006-01-02 10:00:00    6480.50\n",
       "Name: 台股指數, dtype: float64"
      ]
     },
     "execution_count": 28,
     "metadata": {},
     "output_type": "execute_result"
    }
   ],
   "source": [
    "from finlab.data import Data\n",
    "\n",
    "data = Data()\n",
    "twii = data.get(\"發行量加權股價指數\")\n",
    "\n",
    "twii = twii['台股指數'].resample(\"15T\").first().dropna()\n",
    "twii.head()"
   ]
  },
  {
   "cell_type": "markdown",
   "metadata": {},
   "source": [
    "## 製作features"
   ]
  },
  {
   "cell_type": "code",
   "execution_count": 2,
   "metadata": {},
   "outputs": [],
   "source": [
    "import talib\n",
    "import numpy as np\n",
    "import pandas as pd\n",
    "\n",
    "sma = talib.SMA(twii, timeperiod=120)\n",
    "wma = talib.WMA(twii, timeperiod=120)\n",
    "mom = talib.MOM(twii, timeperiod=120)\n",
    "k, d = talib.STOCH  (twii, twii, twii, fastk_period=120, slowk_period=60, slowd_period=60)\n",
    "k2, d2 = talib.STOCH(twii, twii, twii, fastk_period=240, slowk_period=120, slowd_period=120)\n",
    "k3, d3 = talib.STOCH(twii, twii, twii, fastk_period=360, slowk_period=180, slowd_period=180)\n",
    "k4, d4 = talib.STOCH(twii, twii, twii, fastk_period=480, slowk_period=240, slowd_period=240)\n",
    "k5, d5 = talib.STOCH(twii, twii, twii, fastk_period=640, slowk_period=320, slowd_period=320)\n",
    "k6, d6 = talib.STOCH(twii, twii, twii, fastk_period=720, slowk_period=360, slowd_period=360)\n",
    "k7, d7 = talib.STOCH(twii, twii, twii, fastk_period=840, slowk_period=420, slowd_period=420)\n",
    "k8, d8 = talib.STOCH(twii, twii, twii, fastk_period=960, slowk_period=480, slowd_period=480)\n",
    "\n",
    "rsi = talib.RSI (twii, timeperiod=120)\n",
    "rsi2 = talib.RSI(twii, timeperiod=240)\n",
    "rsi3 = talib.RSI(twii, timeperiod=480)\n",
    "rsi4 = talib.RSI(twii, timeperiod=640)\n",
    "rsi5 = talib.RSI(twii, timeperiod=720)\n",
    "rsi6 = talib.RSI(twii, timeperiod=840)\n",
    "\n",
    "macd1, macd2, macd3 = talib.MACD(twii, fastperiod=120, slowperiod=60, signalperiod=60)\n",
    "willr = talib.WILLR(twii, twii, twii, timeperiod=120)\n",
    "cci = talib.CCI(twii, twii, twii, timeperiod=120)\n",
    "\n",
    "dataset = pd.DataFrame({\n",
    "    'RSIb': rsi / 50,\n",
    "    'RSIb2': rsi2 / 50,\n",
    "    'RSIb3': rsi3 / 50,\n",
    "    'RSIb4': rsi4 / 50,\n",
    "    'RSIb5': rsi5 / 50,\n",
    "    'RSIb6': rsi6 / 50,\n",
    "    'MOMb': mom - 0,\n",
    "    'KDb': k - d,\n",
    "    'KDb2': k2 - d2,\n",
    "    'KDb3': k3 - d3,\n",
    "    'KDb4': k4 - d4,\n",
    "    'KDb5': k5 - d5,\n",
    "    'KDb6': k6 - d6,\n",
    "    'KDb7': k7 - d7,\n",
    "    'KDb8': k8 - d8,\n",
    "    \n",
    "    'a5':   (twii.rolling(5).mean()   / twii),\n",
    "    'a10':  (twii.rolling(10).mean()  / twii),\n",
    "    'a20':  (twii.rolling(20).mean()  / twii),\n",
    "    'a40':  (twii.rolling(40).mean()  / twii),\n",
    "    'a80':  (twii.rolling(80).mean()  / twii),\n",
    "    'a160': (twii.rolling(160).mean() / twii),\n",
    "    'a320': (twii.rolling(320).mean() / twii),\n",
    "    'a640': (twii.rolling(640).mean() / twii),\n",
    "    'a720': (twii.rolling(720).mean() / twii),\n",
    "    'a840': (twii.rolling(840).mean() / twii),\n",
    "    'a960': (twii.rolling(960).mean() / twii),\n",
    "    'a1024':(twii.rolling(1024).mean() / twii),\n",
    "    'b1': twii/twii.shift(50),\n",
    "    'b2': twii/twii.shift(100),\n",
    "    'b3': twii/twii.shift(150),\n",
    "    'b4': twii/twii.shift(200),\n",
    "    'b5': twii/twii.shift(250),\n",
    "    'b6': twii/twii.shift(300),\n",
    "    'b7': twii/twii.shift(350),\n",
    "    'LINEARREG_SLOPE0': talib.LINEARREG_SLOPE(twii, 60),\n",
    "    'LINEARREG_SLOPE1': talib.LINEARREG_SLOPE(twii, 120),\n",
    "\n",
    "    'ADXR0': talib.ADXR(twii, twii, twii, 60),\n",
    "    'ADXR1': talib.ADXR(twii, twii, twii, 120),\n",
    "    'ADXR2': talib.ADXR(twii, twii, twii, 240),\n",
    "    'ADXR3': talib.ADXR(twii, twii, twii, 360),\n",
    "    'ADXR4': talib.ADXR(twii, twii, twii, 480),\n",
    "    'ADXR5': talib.ADXR(twii, twii, twii, 640),\n",
    "\n",
    "    'return': twii.shift(-10) / twii,\n",
    "})\n",
    "\n",
    "feature_names = list(dataset.columns[:-1])"
   ]
  },
  {
   "cell_type": "markdown",
   "metadata": {},
   "source": [
    "## 簡單處理一下"
   ]
  },
  {
   "cell_type": "code",
   "execution_count": 29,
   "metadata": {},
   "outputs": [
    {
     "name": "stdout",
     "output_type": "stream",
     "text": [
      "before dropping NaN (60278, 43)\n",
      "after dropping NaN (60278, 43)\n"
     ]
    }
   ],
   "source": [
    "print(\"before dropping NaN\", dataset.shape)\n",
    "dataset = dataset.dropna()\n",
    "print(\"after dropping NaN\", dataset.shape)\n"
   ]
  },
  {
   "cell_type": "code",
   "execution_count": 30,
   "metadata": {},
   "outputs": [
    {
     "data": {
      "text/plain": [
       "LGBMClassifier(boosting_type='gbdt', class_weight=None, colsample_bytree=1.0,\n",
       "        importance_type='split', learning_rate=0.01, max_depth=-1,\n",
       "        min_child_samples=20, min_child_weight=0.001, min_split_gain=0.0,\n",
       "        n_estimators=100, n_jobs=-1, num_leaves=31, objective=None,\n",
       "        random_state=5, reg_alpha=0.0, reg_lambda=0.0, silent=True,\n",
       "        subsample=1.0, subsample_for_bin=200000, subsample_freq=0)"
      ]
     },
     "execution_count": 30,
     "metadata": {},
     "output_type": "execute_result"
    }
   ],
   "source": [
    "import lightgbm as lgb\n",
    "dataset_train = dataset[:'2015']\n",
    "\n",
    "gbm = lgb.LGBMClassifier(n_estimators=100, random_state=5, learning_rate=0.01)\n",
    "\n",
    "gbm.fit(dataset_train[feature_names], dataset_train['return'] > 1)\n"
   ]
  },
  {
   "cell_type": "markdown",
   "metadata": {},
   "source": [
    "## 神經網路Preprocessing"
   ]
  },
  {
   "cell_type": "code",
   "execution_count": 31,
   "metadata": {},
   "outputs": [
    {
     "data": {
      "text/html": [
       "<div>\n",
       "<style scoped>\n",
       "    .dataframe tbody tr th:only-of-type {\n",
       "        vertical-align: middle;\n",
       "    }\n",
       "\n",
       "    .dataframe tbody tr th {\n",
       "        vertical-align: top;\n",
       "    }\n",
       "\n",
       "    .dataframe thead th {\n",
       "        text-align: right;\n",
       "    }\n",
       "</style>\n",
       "<table border=\"1\" class=\"dataframe\">\n",
       "  <thead>\n",
       "    <tr style=\"text-align: right;\">\n",
       "      <th></th>\n",
       "      <th>RSIb</th>\n",
       "      <th>RSIb2</th>\n",
       "      <th>RSIb3</th>\n",
       "      <th>RSIb4</th>\n",
       "      <th>RSIb5</th>\n",
       "      <th>RSIb6</th>\n",
       "      <th>MOMb</th>\n",
       "      <th>KDb</th>\n",
       "      <th>KDb2</th>\n",
       "      <th>KDb3</th>\n",
       "      <th>...</th>\n",
       "      <th>b7</th>\n",
       "      <th>LINEARREG_SLOPE0</th>\n",
       "      <th>LINEARREG_SLOPE1</th>\n",
       "      <th>ADXR0</th>\n",
       "      <th>ADXR1</th>\n",
       "      <th>ADXR2</th>\n",
       "      <th>ADXR3</th>\n",
       "      <th>ADXR4</th>\n",
       "      <th>ADXR5</th>\n",
       "      <th>return</th>\n",
       "    </tr>\n",
       "  </thead>\n",
       "  <tbody>\n",
       "    <tr>\n",
       "      <th>count</th>\n",
       "      <td>6.027800e+04</td>\n",
       "      <td>6.027800e+04</td>\n",
       "      <td>6.027800e+04</td>\n",
       "      <td>6.027800e+04</td>\n",
       "      <td>6.027800e+04</td>\n",
       "      <td>6.027800e+04</td>\n",
       "      <td>6.027800e+04</td>\n",
       "      <td>6.027800e+04</td>\n",
       "      <td>6.027800e+04</td>\n",
       "      <td>6.027800e+04</td>\n",
       "      <td>...</td>\n",
       "      <td>6.027800e+04</td>\n",
       "      <td>6.027800e+04</td>\n",
       "      <td>6.027800e+04</td>\n",
       "      <td>6.027800e+04</td>\n",
       "      <td>6.027800e+04</td>\n",
       "      <td>6.027800e+04</td>\n",
       "      <td>6.027800e+04</td>\n",
       "      <td>6.027800e+04</td>\n",
       "      <td>6.027800e+04</td>\n",
       "      <td>60278.000000</td>\n",
       "    </tr>\n",
       "    <tr>\n",
       "      <th>mean</th>\n",
       "      <td>4.160970e-16</td>\n",
       "      <td>1.664962e-15</td>\n",
       "      <td>-3.152018e-15</td>\n",
       "      <td>3.616485e-16</td>\n",
       "      <td>-4.697339e-15</td>\n",
       "      <td>-2.537622e-15</td>\n",
       "      <td>1.077880e-16</td>\n",
       "      <td>-2.902368e-17</td>\n",
       "      <td>1.078396e-17</td>\n",
       "      <td>-2.352764e-17</td>\n",
       "      <td>...</td>\n",
       "      <td>-1.044878e-15</td>\n",
       "      <td>-8.602120e-17</td>\n",
       "      <td>3.333727e-17</td>\n",
       "      <td>1.484668e-16</td>\n",
       "      <td>5.149779e-18</td>\n",
       "      <td>7.131817e-16</td>\n",
       "      <td>6.190196e-16</td>\n",
       "      <td>-9.520534e-16</td>\n",
       "      <td>-2.800611e-16</td>\n",
       "      <td>1.000112</td>\n",
       "    </tr>\n",
       "    <tr>\n",
       "      <th>std</th>\n",
       "      <td>1.000008e+00</td>\n",
       "      <td>1.000008e+00</td>\n",
       "      <td>1.000008e+00</td>\n",
       "      <td>1.000008e+00</td>\n",
       "      <td>1.000008e+00</td>\n",
       "      <td>1.000008e+00</td>\n",
       "      <td>1.000008e+00</td>\n",
       "      <td>1.000008e+00</td>\n",
       "      <td>1.000008e+00</td>\n",
       "      <td>1.000008e+00</td>\n",
       "      <td>...</td>\n",
       "      <td>1.000008e+00</td>\n",
       "      <td>1.000008e+00</td>\n",
       "      <td>1.000008e+00</td>\n",
       "      <td>1.000008e+00</td>\n",
       "      <td>1.000008e+00</td>\n",
       "      <td>1.000008e+00</td>\n",
       "      <td>1.000008e+00</td>\n",
       "      <td>1.000008e+00</td>\n",
       "      <td>1.000008e+00</td>\n",
       "      <td>0.008300</td>\n",
       "    </tr>\n",
       "    <tr>\n",
       "      <th>min</th>\n",
       "      <td>-4.491131e+00</td>\n",
       "      <td>-4.498017e+00</td>\n",
       "      <td>-4.474123e+00</td>\n",
       "      <td>-4.425419e+00</td>\n",
       "      <td>-4.390818e+00</td>\n",
       "      <td>-4.329894e+00</td>\n",
       "      <td>-6.601765e+00</td>\n",
       "      <td>-2.571926e+00</td>\n",
       "      <td>-2.642993e+00</td>\n",
       "      <td>-2.614789e+00</td>\n",
       "      <td>...</td>\n",
       "      <td>-5.507580e+00</td>\n",
       "      <td>-7.103968e+00</td>\n",
       "      <td>-6.134322e+00</td>\n",
       "      <td>-2.137025e+00</td>\n",
       "      <td>-1.957330e+00</td>\n",
       "      <td>-1.752563e+00</td>\n",
       "      <td>-1.686516e+00</td>\n",
       "      <td>-1.806230e+00</td>\n",
       "      <td>-1.905031e+00</td>\n",
       "      <td>0.924507</td>\n",
       "    </tr>\n",
       "    <tr>\n",
       "      <th>25%</th>\n",
       "      <td>-7.035409e-01</td>\n",
       "      <td>-6.974616e-01</td>\n",
       "      <td>-6.778291e-01</td>\n",
       "      <td>-6.726889e-01</td>\n",
       "      <td>-6.694477e-01</td>\n",
       "      <td>-6.610010e-01</td>\n",
       "      <td>-5.198309e-01</td>\n",
       "      <td>-6.398698e-01</td>\n",
       "      <td>-6.570623e-01</td>\n",
       "      <td>-6.430623e-01</td>\n",
       "      <td>...</td>\n",
       "      <td>-5.137730e-01</td>\n",
       "      <td>-5.064088e-01</td>\n",
       "      <td>-5.224729e-01</td>\n",
       "      <td>-7.452371e-01</td>\n",
       "      <td>-6.857783e-01</td>\n",
       "      <td>-7.319479e-01</td>\n",
       "      <td>-6.848448e-01</td>\n",
       "      <td>-6.817586e-01</td>\n",
       "      <td>-6.886144e-01</td>\n",
       "      <td>0.996970</td>\n",
       "    </tr>\n",
       "    <tr>\n",
       "      <th>50%</th>\n",
       "      <td>8.862874e-02</td>\n",
       "      <td>1.156898e-01</td>\n",
       "      <td>1.221761e-01</td>\n",
       "      <td>1.393488e-01</td>\n",
       "      <td>1.451133e-01</td>\n",
       "      <td>1.570421e-01</td>\n",
       "      <td>1.007855e-01</td>\n",
       "      <td>-1.167630e-02</td>\n",
       "      <td>-3.164447e-02</td>\n",
       "      <td>-1.048569e-03</td>\n",
       "      <td>...</td>\n",
       "      <td>1.131675e-01</td>\n",
       "      <td>8.643829e-02</td>\n",
       "      <td>8.966023e-02</td>\n",
       "      <td>-1.371626e-01</td>\n",
       "      <td>-2.285498e-01</td>\n",
       "      <td>-2.430415e-01</td>\n",
       "      <td>-1.969991e-01</td>\n",
       "      <td>-1.584369e-01</td>\n",
       "      <td>-1.951818e-01</td>\n",
       "      <td>1.000239</td>\n",
       "    </tr>\n",
       "    <tr>\n",
       "      <th>75%</th>\n",
       "      <td>7.369285e-01</td>\n",
       "      <td>7.273276e-01</td>\n",
       "      <td>7.146140e-01</td>\n",
       "      <td>7.252098e-01</td>\n",
       "      <td>7.305081e-01</td>\n",
       "      <td>7.280411e-01</td>\n",
       "      <td>6.363429e-01</td>\n",
       "      <td>6.517389e-01</td>\n",
       "      <td>6.745452e-01</td>\n",
       "      <td>6.173513e-01</td>\n",
       "      <td>...</td>\n",
       "      <td>5.551963e-01</td>\n",
       "      <td>6.045138e-01</td>\n",
       "      <td>6.253190e-01</td>\n",
       "      <td>6.079186e-01</td>\n",
       "      <td>4.605780e-01</td>\n",
       "      <td>4.572949e-01</td>\n",
       "      <td>4.335557e-01</td>\n",
       "      <td>4.105331e-01</td>\n",
       "      <td>5.482171e-01</td>\n",
       "      <td>1.003679</td>\n",
       "    </tr>\n",
       "    <tr>\n",
       "      <th>max</th>\n",
       "      <td>2.972881e+00</td>\n",
       "      <td>2.961764e+00</td>\n",
       "      <td>3.057171e+00</td>\n",
       "      <td>3.060424e+00</td>\n",
       "      <td>3.047722e+00</td>\n",
       "      <td>3.021261e+00</td>\n",
       "      <td>4.382527e+00</td>\n",
       "      <td>2.713237e+00</td>\n",
       "      <td>2.550176e+00</td>\n",
       "      <td>2.504721e+00</td>\n",
       "      <td>...</td>\n",
       "      <td>4.914214e+00</td>\n",
       "      <td>5.681204e+00</td>\n",
       "      <td>4.769627e+00</td>\n",
       "      <td>4.625856e+00</td>\n",
       "      <td>3.792163e+00</td>\n",
       "      <td>4.420270e+00</td>\n",
       "      <td>3.994220e+00</td>\n",
       "      <td>3.941022e+00</td>\n",
       "      <td>3.814336e+00</td>\n",
       "      <td>1.087726</td>\n",
       "    </tr>\n",
       "  </tbody>\n",
       "</table>\n",
       "<p>8 rows × 43 columns</p>\n",
       "</div>"
      ],
      "text/plain": [
       "               RSIb         RSIb2         RSIb3         RSIb4         RSIb5  \\\n",
       "count  6.027800e+04  6.027800e+04  6.027800e+04  6.027800e+04  6.027800e+04   \n",
       "mean   4.160970e-16  1.664962e-15 -3.152018e-15  3.616485e-16 -4.697339e-15   \n",
       "std    1.000008e+00  1.000008e+00  1.000008e+00  1.000008e+00  1.000008e+00   \n",
       "min   -4.491131e+00 -4.498017e+00 -4.474123e+00 -4.425419e+00 -4.390818e+00   \n",
       "25%   -7.035409e-01 -6.974616e-01 -6.778291e-01 -6.726889e-01 -6.694477e-01   \n",
       "50%    8.862874e-02  1.156898e-01  1.221761e-01  1.393488e-01  1.451133e-01   \n",
       "75%    7.369285e-01  7.273276e-01  7.146140e-01  7.252098e-01  7.305081e-01   \n",
       "max    2.972881e+00  2.961764e+00  3.057171e+00  3.060424e+00  3.047722e+00   \n",
       "\n",
       "              RSIb6          MOMb           KDb          KDb2          KDb3  \\\n",
       "count  6.027800e+04  6.027800e+04  6.027800e+04  6.027800e+04  6.027800e+04   \n",
       "mean  -2.537622e-15  1.077880e-16 -2.902368e-17  1.078396e-17 -2.352764e-17   \n",
       "std    1.000008e+00  1.000008e+00  1.000008e+00  1.000008e+00  1.000008e+00   \n",
       "min   -4.329894e+00 -6.601765e+00 -2.571926e+00 -2.642993e+00 -2.614789e+00   \n",
       "25%   -6.610010e-01 -5.198309e-01 -6.398698e-01 -6.570623e-01 -6.430623e-01   \n",
       "50%    1.570421e-01  1.007855e-01 -1.167630e-02 -3.164447e-02 -1.048569e-03   \n",
       "75%    7.280411e-01  6.363429e-01  6.517389e-01  6.745452e-01  6.173513e-01   \n",
       "max    3.021261e+00  4.382527e+00  2.713237e+00  2.550176e+00  2.504721e+00   \n",
       "\n",
       "       ...            b7  LINEARREG_SLOPE0  LINEARREG_SLOPE1         ADXR0  \\\n",
       "count  ...  6.027800e+04      6.027800e+04      6.027800e+04  6.027800e+04   \n",
       "mean   ... -1.044878e-15     -8.602120e-17      3.333727e-17  1.484668e-16   \n",
       "std    ...  1.000008e+00      1.000008e+00      1.000008e+00  1.000008e+00   \n",
       "min    ... -5.507580e+00     -7.103968e+00     -6.134322e+00 -2.137025e+00   \n",
       "25%    ... -5.137730e-01     -5.064088e-01     -5.224729e-01 -7.452371e-01   \n",
       "50%    ...  1.131675e-01      8.643829e-02      8.966023e-02 -1.371626e-01   \n",
       "75%    ...  5.551963e-01      6.045138e-01      6.253190e-01  6.079186e-01   \n",
       "max    ...  4.914214e+00      5.681204e+00      4.769627e+00  4.625856e+00   \n",
       "\n",
       "              ADXR1         ADXR2         ADXR3         ADXR4         ADXR5  \\\n",
       "count  6.027800e+04  6.027800e+04  6.027800e+04  6.027800e+04  6.027800e+04   \n",
       "mean   5.149779e-18  7.131817e-16  6.190196e-16 -9.520534e-16 -2.800611e-16   \n",
       "std    1.000008e+00  1.000008e+00  1.000008e+00  1.000008e+00  1.000008e+00   \n",
       "min   -1.957330e+00 -1.752563e+00 -1.686516e+00 -1.806230e+00 -1.905031e+00   \n",
       "25%   -6.857783e-01 -7.319479e-01 -6.848448e-01 -6.817586e-01 -6.886144e-01   \n",
       "50%   -2.285498e-01 -2.430415e-01 -1.969991e-01 -1.584369e-01 -1.951818e-01   \n",
       "75%    4.605780e-01  4.572949e-01  4.335557e-01  4.105331e-01  5.482171e-01   \n",
       "max    3.792163e+00  4.420270e+00  3.994220e+00  3.941022e+00  3.814336e+00   \n",
       "\n",
       "             return  \n",
       "count  60278.000000  \n",
       "mean       1.000112  \n",
       "std        0.008300  \n",
       "min        0.924507  \n",
       "25%        0.996970  \n",
       "50%        1.000239  \n",
       "75%        1.003679  \n",
       "max        1.087726  \n",
       "\n",
       "[8 rows x 43 columns]"
      ]
     },
     "execution_count": 31,
     "metadata": {},
     "output_type": "execute_result"
    }
   ],
   "source": [
    "from sklearn.preprocessing import StandardScaler\n",
    "\n",
    "ss = StandardScaler()\n",
    "\n",
    "dataset_scaled = ss.fit_transform(dataset)\n",
    "dataset_scaled = pd.DataFrame(dataset_scaled, columns=dataset.columns, index=dataset.index)\n",
    "dataset_scaled['return'] = dataset['return']\n",
    "dataset_scaled.describe()"
   ]
  },
  {
   "cell_type": "code",
   "execution_count": 32,
   "metadata": {},
   "outputs": [
    {
     "data": {
      "application/vnd.jupyter.widget-view+json": {
       "model_id": "5cd62b3b867a467b87147aed365fb129",
       "version_major": 2,
       "version_minor": 0
      },
      "text/plain": [
       "HBox(children=(IntProgress(value=0, max=60275), HTML(value='')))"
      ]
     },
     "metadata": {},
     "output_type": "display_data"
    },
    {
     "name": "stdout",
     "output_type": "stream",
     "text": [
      "\n"
     ]
    }
   ],
   "source": [
    "import tqdm\n",
    "\n",
    "n = 3\n",
    "\n",
    "X = []\n",
    "y = []\n",
    "indexes = []\n",
    "dataset_scaled_x = dataset_scaled[feature_names]\n",
    "\n",
    "for i in tqdm.tqdm_notebook(range(0, len(dataset_scaled)-n)):\n",
    "    X.append(dataset_scaled_x.iloc[i:i+n].values)\n",
    "    y.append(dataset_scaled['return'].iloc[i+n-1])\n",
    "    indexes.append(dataset_scaled.index[i+n-1])\n",
    "#dataset_scaled.head()"
   ]
  },
  {
   "cell_type": "code",
   "execution_count": 36,
   "metadata": {},
   "outputs": [],
   "source": [
    "import numpy as np\n",
    "X = np.array(X)\n",
    "y = np.array(y)"
   ]
  },
  {
   "cell_type": "code",
   "execution_count": 37,
   "metadata": {},
   "outputs": [],
   "source": [
    "indexes = np.array(indexes)"
   ]
  },
  {
   "cell_type": "markdown",
   "metadata": {},
   "source": [
    "## 神經網路 Model"
   ]
  },
  {
   "cell_type": "code",
   "execution_count": 38,
   "metadata": {},
   "outputs": [
    {
     "name": "stdout",
     "output_type": "stream",
     "text": [
      "_________________________________________________________________\n",
      "Layer (type)                 Output Shape              Param #   \n",
      "=================================================================\n",
      "lstm_3 (LSTM)                (None, 3, 100)            57200     \n",
      "_________________________________________________________________\n",
      "lstm_4 (LSTM)                (None, 100)               80400     \n",
      "_________________________________________________________________\n",
      "dense_3 (Dense)              (None, 8)                 808       \n",
      "_________________________________________________________________\n",
      "dense_4 (Dense)              (None, 1)                 9         \n",
      "=================================================================\n",
      "Total params: 138,417\n",
      "Trainable params: 138,417\n",
      "Non-trainable params: 0\n",
      "_________________________________________________________________\n"
     ]
    }
   ],
   "source": [
    "import keras\n",
    "\n",
    "model = keras.models.Sequential()\n",
    "#model.add(keras.layers.Dense(100, activation=\"relu\", input_shape=(len(feature_names),)))\n",
    "model.add(keras.layers.LSTM(100, return_sequences=True, input_shape=X[0].shape))\n",
    "model.add(keras.layers.LSTM(100))\n",
    "model.add(keras.layers.Dense(8))\n",
    "model.add(keras.layers.Dense(1,kernel_initializer=\"uniform\",activation='linear'))\n",
    "\n",
    "adam = keras.optimizers.Adam(0.0006)\n",
    "\n",
    "model.compile(optimizer=adam, loss=\"binary_crossentropy\", metrics=['accuracy'])\n",
    "\n",
    "model.summary()"
   ]
  },
  {
   "cell_type": "markdown",
   "metadata": {},
   "source": [
    "## 神經網路訓練"
   ]
  },
  {
   "cell_type": "code",
   "execution_count": 39,
   "metadata": {},
   "outputs": [
    {
     "name": "stdout",
     "output_type": "stream",
     "text": [
      "Train on 36524 samples, validate on 4059 samples\n",
      "Epoch 1/100\n",
      "36524/36524 [==============================] - 3s 74us/step - loss: 3.8247 - acc: 0.4794 - val_loss: 2.2180 - val_acc: 0.4814\n",
      "Epoch 2/100\n",
      "36524/36524 [==============================] - 1s 37us/step - loss: 1.9686 - acc: 0.4794 - val_loss: 1.8813 - val_acc: 0.4814\n",
      "Epoch 3/100\n",
      "36524/36524 [==============================] - 1s 41us/step - loss: 1.7175 - acc: 0.4794 - val_loss: 1.6959 - val_acc: 0.4814\n",
      "Epoch 4/100\n",
      "36524/36524 [==============================] - 1s 40us/step - loss: 1.5454 - acc: 0.4794 - val_loss: 1.5450 - val_acc: 0.4814\n",
      "Epoch 5/100\n",
      "36524/36524 [==============================] - 1s 41us/step - loss: 1.3983 - acc: 0.4794 - val_loss: 1.4105 - val_acc: 0.4814\n",
      "Epoch 6/100\n",
      "36524/36524 [==============================] - 2s 42us/step - loss: 1.2660 - acc: 0.4794 - val_loss: 1.2843 - val_acc: 0.4814\n",
      "Epoch 7/100\n",
      "36524/36524 [==============================] - 2s 44us/step - loss: 1.1436 - acc: 0.4794 - val_loss: 1.1647 - val_acc: 0.4814\n",
      "Epoch 8/100\n",
      "36524/36524 [==============================] - 2s 49us/step - loss: 1.0314 - acc: 0.4806 - val_loss: 1.0546 - val_acc: 0.4814\n",
      "Epoch 9/100\n",
      "36524/36524 [==============================] - 2s 46us/step - loss: 0.9355 - acc: 0.4865 - val_loss: 0.9590 - val_acc: 0.4807\n",
      "Epoch 10/100\n",
      "36524/36524 [==============================] - 2s 44us/step - loss: 0.8653 - acc: 0.4902 - val_loss: 0.8854 - val_acc: 0.4747\n",
      "Epoch 11/100\n",
      "36524/36524 [==============================] - 2s 42us/step - loss: 0.8264 - acc: 0.4979 - val_loss: 0.8411 - val_acc: 0.4792\n",
      "Epoch 12/100\n",
      "36524/36524 [==============================] - 1s 38us/step - loss: 0.8073 - acc: 0.4979 - val_loss: 0.8220 - val_acc: 0.4733\n",
      "Epoch 13/100\n",
      "36524/36524 [==============================] - 1s 38us/step - loss: 0.7868 - acc: 0.4988 - val_loss: 0.8081 - val_acc: 0.4715\n",
      "Epoch 14/100\n",
      "36524/36524 [==============================] - 2s 42us/step - loss: 0.7709 - acc: 0.4983 - val_loss: 0.7936 - val_acc: 0.4738\n",
      "Epoch 15/100\n",
      "36524/36524 [==============================] - 2s 42us/step - loss: 0.7575 - acc: 0.4979 - val_loss: 0.7792 - val_acc: 0.4743\n",
      "Epoch 16/100\n",
      "36524/36524 [==============================] - 2s 42us/step - loss: 0.7461 - acc: 0.4995 - val_loss: 0.7663 - val_acc: 0.4775\n",
      "Epoch 17/100\n",
      "36524/36524 [==============================] - 2s 42us/step - loss: 0.7362 - acc: 0.5028 - val_loss: 0.7555 - val_acc: 0.4844\n",
      "Epoch 18/100\n",
      "36524/36524 [==============================] - 1s 41us/step - loss: 0.7279 - acc: 0.5063 - val_loss: 0.7468 - val_acc: 0.4903\n",
      "Epoch 19/100\n",
      "36524/36524 [==============================] - 2s 43us/step - loss: 0.7208 - acc: 0.5096 - val_loss: 0.7393 - val_acc: 0.4915\n",
      "Epoch 20/100\n",
      "36524/36524 [==============================] - 2s 42us/step - loss: 0.7147 - acc: 0.5129 - val_loss: 0.7331 - val_acc: 0.4940\n",
      "Epoch 21/100\n",
      "36524/36524 [==============================] - 1s 40us/step - loss: 0.7099 - acc: 0.5169 - val_loss: 0.7275 - val_acc: 0.4945\n",
      "Epoch 22/100\n",
      "36524/36524 [==============================] - 1s 39us/step - loss: 0.7059 - acc: 0.5233 - val_loss: 0.7230 - val_acc: 0.5023\n",
      "Epoch 23/100\n",
      "36524/36524 [==============================] - 1s 39us/step - loss: 0.7029 - acc: 0.5246 - val_loss: 0.7195 - val_acc: 0.5085\n",
      "Epoch 24/100\n",
      "36524/36524 [==============================] - 2s 42us/step - loss: 0.7004 - acc: 0.5279 - val_loss: 0.7169 - val_acc: 0.5139\n",
      "Epoch 25/100\n",
      "36524/36524 [==============================] - 2s 42us/step - loss: 0.6986 - acc: 0.5294 - val_loss: 0.7145 - val_acc: 0.5161\n",
      "Epoch 26/100\n",
      "36524/36524 [==============================] - 2s 46us/step - loss: 0.6971 - acc: 0.5319 - val_loss: 0.7127 - val_acc: 0.5169\n",
      "Epoch 27/100\n",
      "36524/36524 [==============================] - 2s 44us/step - loss: 0.6959 - acc: 0.5343 - val_loss: 0.7113 - val_acc: 0.5198\n",
      "Epoch 28/100\n",
      "36524/36524 [==============================] - 2s 44us/step - loss: 0.6950 - acc: 0.5353 - val_loss: 0.7099 - val_acc: 0.5201\n",
      "Epoch 29/100\n",
      "36524/36524 [==============================] - 2s 45us/step - loss: 0.6942 - acc: 0.5359 - val_loss: 0.7087 - val_acc: 0.5218\n",
      "Epoch 30/100\n",
      "36524/36524 [==============================] - 2s 44us/step - loss: 0.6935 - acc: 0.5368 - val_loss: 0.7080 - val_acc: 0.5193\n",
      "Epoch 31/100\n",
      "36524/36524 [==============================] - 1s 41us/step - loss: 0.6928 - acc: 0.5384 - val_loss: 0.7073 - val_acc: 0.5208\n",
      "Epoch 32/100\n",
      "36524/36524 [==============================] - 1s 39us/step - loss: 0.6922 - acc: 0.5389 - val_loss: 0.7063 - val_acc: 0.5193\n",
      "Epoch 33/100\n",
      "36524/36524 [==============================] - 1s 38us/step - loss: 0.6916 - acc: 0.5397 - val_loss: 0.7052 - val_acc: 0.5196\n",
      "Epoch 34/100\n",
      "36524/36524 [==============================] - 2s 42us/step - loss: 0.6911 - acc: 0.5413 - val_loss: 0.7046 - val_acc: 0.5198\n",
      "Epoch 35/100\n",
      "36524/36524 [==============================] - 2s 42us/step - loss: 0.6906 - acc: 0.5425 - val_loss: 0.7038 - val_acc: 0.5188\n",
      "Epoch 36/100\n",
      "36524/36524 [==============================] - 2s 42us/step - loss: 0.6901 - acc: 0.5436 - val_loss: 0.7034 - val_acc: 0.5161\n",
      "Epoch 37/100\n",
      "36524/36524 [==============================] - 2s 42us/step - loss: 0.6897 - acc: 0.5441 - val_loss: 0.7028 - val_acc: 0.5161\n",
      "Epoch 38/100\n",
      "36524/36524 [==============================] - 2s 42us/step - loss: 0.6892 - acc: 0.5451 - val_loss: 0.7022 - val_acc: 0.5166\n",
      "Epoch 39/100\n",
      "36524/36524 [==============================] - 2s 42us/step - loss: 0.6888 - acc: 0.5463 - val_loss: 0.7015 - val_acc: 0.5169\n",
      "Epoch 40/100\n",
      "36524/36524 [==============================] - 2s 42us/step - loss: 0.6884 - acc: 0.5488 - val_loss: 0.7012 - val_acc: 0.5152\n",
      "Epoch 41/100\n",
      "36524/36524 [==============================] - 1s 40us/step - loss: 0.6881 - acc: 0.5492 - val_loss: 0.7013 - val_acc: 0.5134\n",
      "Epoch 42/100\n",
      "36524/36524 [==============================] - 1s 41us/step - loss: 0.6877 - acc: 0.5500 - val_loss: 0.7006 - val_acc: 0.5129\n",
      "Epoch 43/100\n",
      "36524/36524 [==============================] - 2s 41us/step - loss: 0.6873 - acc: 0.5507 - val_loss: 0.6999 - val_acc: 0.5105\n",
      "Epoch 44/100\n",
      "36524/36524 [==============================] - 2s 43us/step - loss: 0.6869 - acc: 0.5499 - val_loss: 0.6994 - val_acc: 0.5142\n",
      "Epoch 45/100\n",
      "36524/36524 [==============================] - 2s 49us/step - loss: 0.6866 - acc: 0.5507 - val_loss: 0.6992 - val_acc: 0.5112\n",
      "Epoch 46/100\n",
      "36524/36524 [==============================] - 2s 45us/step - loss: 0.6863 - acc: 0.5525 - val_loss: 0.6992 - val_acc: 0.5110\n",
      "Epoch 47/100\n",
      "36524/36524 [==============================] - 2s 45us/step - loss: 0.6859 - acc: 0.5528 - val_loss: 0.6987 - val_acc: 0.5119\n",
      "Epoch 48/100\n",
      "36524/36524 [==============================] - 2s 42us/step - loss: 0.6856 - acc: 0.5541 - val_loss: 0.6982 - val_acc: 0.5102\n",
      "Epoch 49/100\n",
      "36524/36524 [==============================] - 2s 43us/step - loss: 0.6853 - acc: 0.5555 - val_loss: 0.6980 - val_acc: 0.5132\n",
      "Epoch 50/100\n",
      "36524/36524 [==============================] - 2s 45us/step - loss: 0.6849 - acc: 0.5558 - val_loss: 0.6979 - val_acc: 0.5129\n",
      "Epoch 51/100\n",
      "36524/36524 [==============================] - 2s 41us/step - loss: 0.6846 - acc: 0.5559 - val_loss: 0.6973 - val_acc: 0.5134\n",
      "Epoch 52/100\n",
      "36524/36524 [==============================] - 2s 43us/step - loss: 0.6843 - acc: 0.5568 - val_loss: 0.6973 - val_acc: 0.5124\n",
      "Epoch 53/100\n",
      "36524/36524 [==============================] - 2s 44us/step - loss: 0.6840 - acc: 0.5581 - val_loss: 0.6975 - val_acc: 0.5110\n",
      "Epoch 54/100\n",
      "36524/36524 [==============================] - 2s 48us/step - loss: 0.6837 - acc: 0.5587 - val_loss: 0.6967 - val_acc: 0.5132\n",
      "Epoch 55/100\n",
      "36524/36524 [==============================] - 2s 52us/step - loss: 0.6834 - acc: 0.5596 - val_loss: 0.6966 - val_acc: 0.5134\n",
      "Epoch 56/100\n",
      "36524/36524 [==============================] - 2s 53us/step - loss: 0.6831 - acc: 0.5599 - val_loss: 0.6963 - val_acc: 0.5124\n",
      "Epoch 57/100\n",
      "36524/36524 [==============================] - 2s 57us/step - loss: 0.6828 - acc: 0.5611 - val_loss: 0.6964 - val_acc: 0.5090\n",
      "Epoch 58/100\n",
      "36524/36524 [==============================] - 2s 56us/step - loss: 0.6824 - acc: 0.5611 - val_loss: 0.6957 - val_acc: 0.5122\n",
      "Epoch 59/100\n",
      "36524/36524 [==============================] - 2s 50us/step - loss: 0.6821 - acc: 0.5619 - val_loss: 0.6960 - val_acc: 0.5102\n",
      "Epoch 60/100\n",
      "36524/36524 [==============================] - 2s 47us/step - loss: 0.6818 - acc: 0.5631 - val_loss: 0.6961 - val_acc: 0.5080\n",
      "Epoch 61/100\n",
      "36524/36524 [==============================] - 2s 46us/step - loss: 0.6814 - acc: 0.5631 - val_loss: 0.6957 - val_acc: 0.5073\n",
      "Epoch 62/100\n",
      "36524/36524 [==============================] - 2s 45us/step - loss: 0.6811 - acc: 0.5637 - val_loss: 0.6955 - val_acc: 0.5083\n",
      "Epoch 63/100\n",
      "36524/36524 [==============================] - 2s 42us/step - loss: 0.6808 - acc: 0.5638 - val_loss: 0.6950 - val_acc: 0.5078\n",
      "Epoch 64/100\n",
      "36524/36524 [==============================] - 2s 42us/step - loss: 0.6805 - acc: 0.5639 - val_loss: 0.6955 - val_acc: 0.5090\n",
      "Epoch 65/100\n",
      "36524/36524 [==============================] - 2s 41us/step - loss: 0.6801 - acc: 0.5652 - val_loss: 0.6953 - val_acc: 0.5080\n",
      "Epoch 66/100\n",
      "36524/36524 [==============================] - 2s 42us/step - loss: 0.6797 - acc: 0.5660 - val_loss: 0.6953 - val_acc: 0.5087\n",
      "Epoch 67/100\n",
      "36524/36524 [==============================] - 2s 43us/step - loss: 0.6794 - acc: 0.5673 - val_loss: 0.6951 - val_acc: 0.5097\n",
      "Epoch 68/100\n",
      "36524/36524 [==============================] - 2s 42us/step - loss: 0.6790 - acc: 0.5683 - val_loss: 0.6950 - val_acc: 0.5070\n",
      "Epoch 69/100\n",
      "36524/36524 [==============================] - 1s 40us/step - loss: 0.6787 - acc: 0.5691 - val_loss: 0.6953 - val_acc: 0.5102\n",
      "Epoch 70/100\n",
      "36524/36524 [==============================] - 1s 41us/step - loss: 0.6783 - acc: 0.5703 - val_loss: 0.6951 - val_acc: 0.5115\n",
      "Epoch 71/100\n",
      "36524/36524 [==============================] - 2s 42us/step - loss: 0.6779 - acc: 0.5718 - val_loss: 0.6946 - val_acc: 0.5100\n",
      "Epoch 72/100\n",
      "36524/36524 [==============================] - 2s 47us/step - loss: 0.6776 - acc: 0.5712 - val_loss: 0.6946 - val_acc: 0.5097\n",
      "Epoch 73/100\n",
      "36524/36524 [==============================] - 2s 47us/step - loss: 0.6772 - acc: 0.5733 - val_loss: 0.6955 - val_acc: 0.5127\n",
      "Epoch 74/100\n",
      "36524/36524 [==============================] - 2s 46us/step - loss: 0.6768 - acc: 0.5728 - val_loss: 0.6953 - val_acc: 0.5124\n",
      "Epoch 75/100\n",
      "36524/36524 [==============================] - 2s 45us/step - loss: 0.6764 - acc: 0.5744 - val_loss: 0.6942 - val_acc: 0.5122\n",
      "Epoch 76/100\n",
      "36524/36524 [==============================] - 2s 45us/step - loss: 0.6760 - acc: 0.5753 - val_loss: 0.6947 - val_acc: 0.5122\n",
      "Epoch 77/100\n",
      "36524/36524 [==============================] - 2s 48us/step - loss: 0.6756 - acc: 0.5762 - val_loss: 0.6956 - val_acc: 0.5156\n",
      "Epoch 78/100\n",
      "36524/36524 [==============================] - 2s 45us/step - loss: 0.6752 - acc: 0.5781 - val_loss: 0.6946 - val_acc: 0.5129\n",
      "Epoch 79/100\n",
      "36524/36524 [==============================] - 2s 41us/step - loss: 0.6747 - acc: 0.5784 - val_loss: 0.6952 - val_acc: 0.5102\n",
      "Epoch 80/100\n",
      "36524/36524 [==============================] - 2s 45us/step - loss: 0.6742 - acc: 0.5788 - val_loss: 0.6947 - val_acc: 0.5169\n",
      "Epoch 81/100\n",
      "36524/36524 [==============================] - 2s 41us/step - loss: 0.6738 - acc: 0.5790 - val_loss: 0.6955 - val_acc: 0.5134\n",
      "Epoch 82/100\n",
      "36524/36524 [==============================] - 1s 41us/step - loss: 0.6734 - acc: 0.5790 - val_loss: 0.6958 - val_acc: 0.5119\n",
      "Epoch 83/100\n",
      "36524/36524 [==============================] - 2s 42us/step - loss: 0.6729 - acc: 0.5802 - val_loss: 0.6958 - val_acc: 0.5149\n",
      "Epoch 84/100\n",
      "36524/36524 [==============================] - 2s 43us/step - loss: 0.6724 - acc: 0.5817 - val_loss: 0.6954 - val_acc: 0.5174\n",
      "Epoch 85/100\n",
      "36524/36524 [==============================] - 2s 41us/step - loss: 0.6720 - acc: 0.5813 - val_loss: 0.6957 - val_acc: 0.5132\n",
      "Epoch 86/100\n",
      "36524/36524 [==============================] - 2s 43us/step - loss: 0.6715 - acc: 0.5829 - val_loss: 0.6957 - val_acc: 0.5188\n",
      "Epoch 87/100\n",
      "36524/36524 [==============================] - 2s 44us/step - loss: 0.6710 - acc: 0.5827 - val_loss: 0.6965 - val_acc: 0.5196\n",
      "Epoch 88/100\n",
      "36524/36524 [==============================] - 2s 43us/step - loss: 0.6705 - acc: 0.5833 - val_loss: 0.6964 - val_acc: 0.5191\n",
      "Epoch 89/100\n",
      "36524/36524 [==============================] - 2s 42us/step - loss: 0.6699 - acc: 0.5839 - val_loss: 0.6963 - val_acc: 0.5147\n",
      "Epoch 90/100\n",
      "36524/36524 [==============================] - 1s 41us/step - loss: 0.6694 - acc: 0.5834 - val_loss: 0.6964 - val_acc: 0.5144\n",
      "Epoch 91/100\n",
      "36524/36524 [==============================] - 1s 40us/step - loss: 0.6688 - acc: 0.5853 - val_loss: 0.6970 - val_acc: 0.5174\n",
      "Epoch 92/100\n",
      "36524/36524 [==============================] - 2s 42us/step - loss: 0.6683 - acc: 0.5875 - val_loss: 0.6989 - val_acc: 0.5159\n",
      "Epoch 93/100\n",
      "36524/36524 [==============================] - 2s 44us/step - loss: 0.6677 - acc: 0.5867 - val_loss: 0.6983 - val_acc: 0.5112\n",
      "Epoch 94/100\n",
      "36524/36524 [==============================] - 2s 43us/step - loss: 0.6671 - acc: 0.5881 - val_loss: 0.6964 - val_acc: 0.5152\n",
      "Epoch 95/100\n",
      "36524/36524 [==============================] - 2s 43us/step - loss: 0.6667 - acc: 0.5908 - val_loss: 0.6995 - val_acc: 0.5142\n",
      "Epoch 96/100\n",
      "36524/36524 [==============================] - 2s 44us/step - loss: 0.6660 - acc: 0.5922 - val_loss: 0.7000 - val_acc: 0.5147\n",
      "Epoch 97/100\n",
      "36524/36524 [==============================] - 2s 45us/step - loss: 0.6654 - acc: 0.5915 - val_loss: 0.6959 - val_acc: 0.5161\n",
      "Epoch 98/100\n",
      "36524/36524 [==============================] - 2s 45us/step - loss: 0.6650 - acc: 0.5931 - val_loss: 0.6994 - val_acc: 0.5166\n",
      "Epoch 99/100\n",
      "36524/36524 [==============================] - 2s 43us/step - loss: 0.6640 - acc: 0.5967 - val_loss: 0.6984 - val_acc: 0.5179\n",
      "Epoch 100/100\n",
      "36524/36524 [==============================] - 2s 42us/step - loss: 0.6634 - acc: 0.5960 - val_loss: 0.7036 - val_acc: 0.5186\n"
     ]
    }
   ],
   "source": [
    "# dataset_scaled_train = dataset_scaled[:'2015']\n",
    "\n",
    "import datetime\n",
    "X_train = X[indexes < datetime.datetime(2015, 1, 1)]\n",
    "y_train = y[indexes < datetime.datetime(2015, 1, 1)]\n",
    "\n",
    "\n",
    "get_best_model = keras.callbacks.ModelCheckpoint(\"lstm.mdl\", monitor=\"val_acc\")\n",
    "\n",
    "history = model.fit(\n",
    "    X_train,  \n",
    "    y_train > 1, \n",
    "    batch_size=5000, \n",
    "    epochs=100, \n",
    "    validation_split=0.1, \n",
    "    callbacks=[get_best_model])"
   ]
  },
  {
   "cell_type": "code",
   "execution_count": 40,
   "metadata": {},
   "outputs": [],
   "source": [
    "model.load_weights(\"lstm.mdl\")"
   ]
  },
  {
   "cell_type": "code",
   "execution_count": 41,
   "metadata": {},
   "outputs": [
    {
     "data": {
      "text/plain": [
       "[<matplotlib.lines.Line2D at 0x1a39b139e8>]"
      ]
     },
     "execution_count": 41,
     "metadata": {},
     "output_type": "execute_result"
    },
    {
     "data": {
      "image/png": "[encoded data removed]",
      "text/plain": [
       "<Figure size 432x288 with 1 Axes>"
      ]
     },
     "metadata": {
      "needs_background": "light"
     },
     "output_type": "display_data"
    }
   ],
   "source": [
    "import matplotlib.pyplot as plt\n",
    "%matplotlib inline\n",
    "plt.plot(history.history['loss'])\n",
    "plt.plot(history.history['val_loss'])"
   ]
  },
  {
   "cell_type": "markdown",
   "metadata": {},
   "source": [
    "## 回測"
   ]
  },
  {
   "cell_type": "code",
   "execution_count": 44,
   "metadata": {},
   "outputs": [
    {
     "data": {
      "text/plain": [
       "array([1.0193143, 1.0473766, 1.0481051, 1.0408896, 1.0288953, 1.0165597,\n",
       "       1.0177177, 1.0195833, 1.0036932, 1.0019665, 1.0018598, 1.0005938,\n",
       "       1.0199996, 1.0587221, 1.0593535, 1.0573789, 1.0584896, 1.0543516,\n",
       "       1.0617584, 1.0496287, 1.0110717], dtype=float32)"
      ]
     },
     "execution_count": 44,
     "metadata": {},
     "output_type": "execute_result"
    }
   ],
   "source": [
    "ey = model.predict(X)\n",
    "ey = pd.Series(ey.swapaxes(0,1)[0], index=indexes)\n",
    "# ey.plot()\n",
    "ey[ey>1]"
   ]
  },
  {
   "cell_type": "code",
   "execution_count": 15,
   "metadata": {},
   "outputs": [
    {
     "data": {
      "text/plain": [
       "<matplotlib.axes._subplots.AxesSubplot at 0x1d769898>"
      ]
     },
     "execution_count": 15,
     "metadata": {},
     "output_type": "execute_result"
    },
    {
     "data": {
      "image/png": "[encoded data removed]",
      "text/plain": [
       "<Figure size 432x288 with 1 Axes>"
      ]
     },
     "metadata": {
      "needs_background": "light"
     },
     "output_type": "display_data"
    }
   ],
   "source": [
    "eq = twii[indexes]\n",
    "returns = (eq.shift(-1) - eq)\n",
    "\n",
    "signal = (ey > ey.quantile(0.6)).rolling(10).sum() > 0\n",
    "signal = signal.shift(1).fillna(False)\n",
    "\n",
    "eq = (returns[signal]['2016':]).cumsum()\n",
    "eq.plot()"
   ]
  },
  {
   "cell_type": "code",
   "execution_count": 16,
   "metadata": {},
   "outputs": [
    {
     "data": {
      "text/plain": [
       "675.0"
      ]
     },
     "execution_count": 16,
     "metadata": {},
     "output_type": "execute_result"
    }
   ],
   "source": [
    "(signal.astype(int).diff().abs().fillna(0) * 3)['2016':].sum()"
   ]
  }
 ],
 "metadata": {
  "kernelspec": {
   "display_name": "finlab",
   "language": "python",
   "name": "finlab"
  },
  "language_info": {
   "codemirror_mode": {
    "name": "ipython",
    "version": 3
   },
   "file_extension": ".py",
   "mimetype": "text/x-python",
   "name": "python",
   "nbconvert_exporter": "python",
   "pygments_lexer": "ipython3",
   "version": "3.6.8"
  }
 },
 "nbformat": 4,
 "nbformat_minor": 2
}
